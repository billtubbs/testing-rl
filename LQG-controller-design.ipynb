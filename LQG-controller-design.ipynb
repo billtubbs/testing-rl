{
 "cells": [
  {
   "cell_type": "markdown",
   "id": "ae620f6d",
   "metadata": {},
   "source": [
    "# Design of an LQG controller for cartpole gym environment"
   ]
  },
  {
   "cell_type": "code",
   "execution_count": 2,
   "id": "e1c735dc",
   "metadata": {},
   "outputs": [],
   "source": [
    "import numpy as np\n",
    "import pandas as pd\n",
    "import matplotlib.pyplot as plt\n",
    "import control\n",
    "import gym\n",
    "import gym_CartPole_BT\n",
    "from gym_CartPole_BT.systems.cartpend import cartpend_ss\n",
    "from env_utils import simulation_rollout, simulation_rollouts\n",
    "from control_baselines import LQR, LQRCartPend, LQGCartPend"
   ]
  },
  {
   "cell_type": "code",
   "execution_count": 3,
   "id": "de5331a0",
   "metadata": {},
   "outputs": [
    {
     "data": {
      "text/plain": [
       "['CartPole-BT-v0',\n",
       " 'CartPole-BT-dL-v0',\n",
       " 'CartPole-BT-dH-v0',\n",
       " 'CartPole-BT-vL-v0',\n",
       " 'CartPole-BT-vH-v0',\n",
       " 'CartPole-BT-dL-vL-v0',\n",
       " 'CartPole-BT-dH-vH-v0',\n",
       " 'CartPole-BT-p2-v0',\n",
       " 'CartPole-BT-p2-dL-v0',\n",
       " 'CartPole-BT-p2-dH-v0',\n",
       " 'CartPole-BT-p2-vL-v0',\n",
       " 'CartPole-BT-p2-vH-v0',\n",
       " 'CartPole-BT-x2-v0',\n",
       " 'CartPole-BT-x2-dL-v0',\n",
       " 'CartPole-BT-x2-dH-v0']"
      ]
     },
     "execution_count": 3,
     "metadata": {},
     "output_type": "execute_result"
    }
   ],
   "source": [
    "list(gym_CartPole_BT.env_configs.keys())"
   ]
  },
  {
   "cell_type": "code",
   "execution_count": 4,
   "id": "152c879a",
   "metadata": {},
   "outputs": [],
   "source": [
    "env = gym.make('CartPole-BT-dH-v0')"
   ]
  },
  {
   "cell_type": "code",
   "execution_count": 5,
   "id": "17fc5f72",
   "metadata": {},
   "outputs": [
    {
     "data": {
      "text/plain": [
       "[(4, 4), (4, 1), (4, 4), (4, 1)]"
      ]
     },
     "execution_count": 5,
     "metadata": {},
     "output_type": "execute_result"
    }
   ],
   "source": [
    "# Get continuous time state-space matrices for linearized\n",
    "# model of cart-pendulum system in vertiacal up position:\n",
    "A, B = cartpend_ss()\n",
    "C = env.output_matrix\n",
    "D = np.array([[ 0. ],\n",
    "              [ 0. ],\n",
    "              [ 0. ],\n",
    "              [ 0. ]], dtype='float32')\n",
    "[a.shape for a in [A, B, C, D]]"
   ]
  },
  {
   "cell_type": "code",
   "execution_count": 6,
   "id": "03294167",
   "metadata": {},
   "outputs": [
    {
     "data": {
      "text/latex": [
       "\\[\n",
       "\\left(\n",
       "\\begin{array}{rllrllrllrll|rll}\n",
       "0\\phantom{.}&\\hspace{-1em}&\\hspace{-1em}\\phantom{\\cdot}&1\\phantom{.}&\\hspace{-1em}&\\hspace{-1em}\\phantom{\\cdot}&0\\phantom{.}&\\hspace{-1em}&\\hspace{-1em}\\phantom{\\cdot}&0\\phantom{.}&\\hspace{-1em}&\\hspace{-1em}\\phantom{\\cdot}&0\\phantom{.}&\\hspace{-1em}&\\hspace{-1em}\\phantom{\\cdot}\\\\\n",
       "0\\phantom{.}&\\hspace{-1em}&\\hspace{-1em}\\phantom{\\cdot}&-0.&\\hspace{-1em}2&\\hspace{-1em}\\phantom{\\cdot}&2\\phantom{.}&\\hspace{-1em}&\\hspace{-1em}\\phantom{\\cdot}&0\\phantom{.}&\\hspace{-1em}&\\hspace{-1em}\\phantom{\\cdot}&0.&\\hspace{-1em}2&\\hspace{-1em}\\phantom{\\cdot}\\\\\n",
       "0\\phantom{.}&\\hspace{-1em}&\\hspace{-1em}\\phantom{\\cdot}&0\\phantom{.}&\\hspace{-1em}&\\hspace{-1em}\\phantom{\\cdot}&0\\phantom{.}&\\hspace{-1em}&\\hspace{-1em}\\phantom{\\cdot}&1\\phantom{.}&\\hspace{-1em}&\\hspace{-1em}\\phantom{\\cdot}&0\\phantom{.}&\\hspace{-1em}&\\hspace{-1em}\\phantom{\\cdot}\\\\\n",
       "0\\phantom{.}&\\hspace{-1em}&\\hspace{-1em}\\phantom{\\cdot}&-0.&\\hspace{-1em}1&\\hspace{-1em}\\phantom{\\cdot}&6\\phantom{.}&\\hspace{-1em}&\\hspace{-1em}\\phantom{\\cdot}&0\\phantom{.}&\\hspace{-1em}&\\hspace{-1em}\\phantom{\\cdot}&0.&\\hspace{-1em}1&\\hspace{-1em}\\phantom{\\cdot}\\\\\n",
       "\\hline\n",
       "1\\phantom{.}&\\hspace{-1em}&\\hspace{-1em}\\phantom{\\cdot}&0\\phantom{.}&\\hspace{-1em}&\\hspace{-1em}\\phantom{\\cdot}&0\\phantom{.}&\\hspace{-1em}&\\hspace{-1em}\\phantom{\\cdot}&0\\phantom{.}&\\hspace{-1em}&\\hspace{-1em}\\phantom{\\cdot}&0\\phantom{.}&\\hspace{-1em}&\\hspace{-1em}\\phantom{\\cdot}\\\\\n",
       "0\\phantom{.}&\\hspace{-1em}&\\hspace{-1em}\\phantom{\\cdot}&1\\phantom{.}&\\hspace{-1em}&\\hspace{-1em}\\phantom{\\cdot}&0\\phantom{.}&\\hspace{-1em}&\\hspace{-1em}\\phantom{\\cdot}&0\\phantom{.}&\\hspace{-1em}&\\hspace{-1em}\\phantom{\\cdot}&0\\phantom{.}&\\hspace{-1em}&\\hspace{-1em}\\phantom{\\cdot}\\\\\n",
       "0\\phantom{.}&\\hspace{-1em}&\\hspace{-1em}\\phantom{\\cdot}&0\\phantom{.}&\\hspace{-1em}&\\hspace{-1em}\\phantom{\\cdot}&1\\phantom{.}&\\hspace{-1em}&\\hspace{-1em}\\phantom{\\cdot}&0\\phantom{.}&\\hspace{-1em}&\\hspace{-1em}\\phantom{\\cdot}&0\\phantom{.}&\\hspace{-1em}&\\hspace{-1em}\\phantom{\\cdot}\\\\\n",
       "0\\phantom{.}&\\hspace{-1em}&\\hspace{-1em}\\phantom{\\cdot}&0\\phantom{.}&\\hspace{-1em}&\\hspace{-1em}\\phantom{\\cdot}&0\\phantom{.}&\\hspace{-1em}&\\hspace{-1em}\\phantom{\\cdot}&1\\phantom{.}&\\hspace{-1em}&\\hspace{-1em}\\phantom{\\cdot}&0\\phantom{.}&\\hspace{-1em}&\\hspace{-1em}\\phantom{\\cdot}\\\\\n",
       "\\end{array}\\right)\n",
       "\\]"
      ],
      "text/plain": [
       "StateSpace(array([[ 0. ,  1. ,  0. ,  0. ],\n",
       "       [ 0. , -0.2,  2. ,  0. ],\n",
       "       [ 0. ,  0. ,  0. ,  1. ],\n",
       "       [ 0. , -0.1,  6. ,  0. ]]), array([[0. ],\n",
       "       [0.2],\n",
       "       [0. ],\n",
       "       [0.1]]), array([[1., 0., 0., 0.],\n",
       "       [0., 1., 0., 0.],\n",
       "       [0., 0., 1., 0.],\n",
       "       [0., 0., 0., 1.]]), array([[0.],\n",
       "       [0.],\n",
       "       [0.],\n",
       "       [0.]]))"
      ]
     },
     "execution_count": 6,
     "metadata": {},
     "output_type": "execute_result"
    }
   ],
   "source": [
    "Gcss = control.ss(A, B, C, D)\n",
    "Gcss"
   ]
  },
  {
   "cell_type": "code",
   "execution_count": 7,
   "id": "8f78fd89",
   "metadata": {},
   "outputs": [
    {
     "data": {
      "text/plain": [
       "0.05"
      ]
     },
     "execution_count": 7,
     "metadata": {},
     "output_type": "execute_result"
    }
   ],
   "source": [
    "# Sample period\n",
    "Ts = env.env.tau\n",
    "Ts"
   ]
  },
  {
   "cell_type": "code",
   "execution_count": 8,
   "id": "e5d3af0a",
   "metadata": {},
   "outputs": [
    {
     "data": {
      "text/plain": [
       "'high'"
      ]
     },
     "execution_count": 8,
     "metadata": {},
     "output_type": "execute_result"
    }
   ],
   "source": [
    "env.disturbances"
   ]
  },
  {
   "cell_type": "code",
   "execution_count": 9,
   "id": "dc423a61",
   "metadata": {},
   "outputs": [
    {
     "data": {
      "text/plain": [
       "0.04000000000000001"
      ]
     },
     "execution_count": 9,
     "metadata": {},
     "output_type": "execute_result"
    }
   ],
   "source": [
    "# This is actually the std. dev. of the random noise\n",
    "env.variance_levels[env.disturbances] ** 2"
   ]
  },
  {
   "cell_type": "code",
   "execution_count": 10,
   "id": "b667c760",
   "metadata": {},
   "outputs": [],
   "source": [
    "# Disturbance is applied to state 3 as follows (see cartpole_bt_env.py):\n",
    "# v = self.variance_levels[self.disturbances]\n",
    "# self.state[3] += 0.05 * self.np_random.normal(scale=v)"
   ]
  },
  {
   "cell_type": "code",
   "execution_count": 11,
   "id": "6d5df356",
   "metadata": {},
   "outputs": [],
   "source": [
    "from control import lqr"
   ]
  },
  {
   "cell_type": "code",
   "execution_count": 12,
   "id": "61c4f8af",
   "metadata": {},
   "outputs": [
    {
     "name": "stdout",
     "output_type": "stream",
     "text": [
      "Help on function lqr in module control.statefbk:\n",
      "\n",
      "lqr(*args, **keywords)\n",
      "    lqr(A, B, Q, R[, N])\n",
      "    \n",
      "    Linear quadratic regulator design\n",
      "    \n",
      "    The lqr() function computes the optimal state feedback controller\n",
      "    that minimizes the quadratic cost\n",
      "    \n",
      "    .. math:: J = \\int_0^\\infty (x' Q x + u' R u + 2 x' N u) dt\n",
      "    \n",
      "    The function can be called with either 3, 4, or 5 arguments:\n",
      "    \n",
      "    * ``lqr(sys, Q, R)``\n",
      "    * ``lqr(sys, Q, R, N)``\n",
      "    * ``lqr(A, B, Q, R)``\n",
      "    * ``lqr(A, B, Q, R, N)``\n",
      "    \n",
      "    where `sys` is an `LTI` object, and `A`, `B`, `Q`, `R`, and `N` are\n",
      "    2d arrays or matrices of appropriate dimension.\n",
      "    \n",
      "    Parameters\n",
      "    ----------\n",
      "    A, B : 2D array\n",
      "        Dynamics and input matrices\n",
      "    sys : LTI (StateSpace or TransferFunction)\n",
      "        Linear I/O system\n",
      "    Q, R : 2D array\n",
      "        State and input weight matrices\n",
      "    N : 2D array, optional\n",
      "        Cross weight matrix\n",
      "    \n",
      "    Returns\n",
      "    -------\n",
      "    K : 2D array (or matrix)\n",
      "        State feedback gains\n",
      "    S : 2D array (or matrix)\n",
      "        Solution to Riccati equation\n",
      "    E : 1D array\n",
      "        Eigenvalues of the closed loop system\n",
      "    \n",
      "    See Also\n",
      "    --------\n",
      "    lqe\n",
      "    \n",
      "    Notes\n",
      "    -----\n",
      "    The return type for 2D arrays depends on the default class set for\n",
      "    state space operations.  See :func:`~control.use_numpy_matrix`.\n",
      "    \n",
      "    Examples\n",
      "    --------\n",
      "    >>> K, S, E = lqr(sys, Q, R, [N])\n",
      "    >>> K, S, E = lqr(A, B, Q, R, [N])\n",
      "\n"
     ]
    }
   ],
   "source": [
    "help(lqr)"
   ]
  },
  {
   "cell_type": "code",
   "execution_count": 21,
   "id": "b11dd6a1",
   "metadata": {},
   "outputs": [
    {
     "data": {
      "text/plain": [
       "array([[ -3.1623, -13.1358, 212.228 ,  90.7702]])"
      ]
     },
     "execution_count": 21,
     "metadata": {},
     "output_type": "execute_result"
    }
   ],
   "source": [
    "Q = np.diag([1, 5, 10, 10])\n",
    "#Q = np.eye(4)\n",
    "R = 0.1\n",
    "K, S, E = lqr(A, B, Q, R)\n",
    "K.round(4)"
   ]
  },
  {
   "cell_type": "markdown",
   "id": "e06acfea",
   "metadata": {},
   "source": [
    "## LQR Simulation tests"
   ]
  },
  {
   "cell_type": "code",
   "execution_count": 13,
   "id": "764097b2",
   "metadata": {},
   "outputs": [],
   "source": [
    "env = gym.make('CartPole-BT-dH-v0')"
   ]
  },
  {
   "cell_type": "code",
   "execution_count": 14,
   "id": "ecba215e",
   "metadata": {},
   "outputs": [
    {
     "data": {
      "text/plain": [
       "array([[-100.    , -197.5366, 1491.2808,  668.4449]], dtype=float32)"
      ]
     },
     "execution_count": 14,
     "metadata": {},
     "output_type": "execute_result"
    }
   ],
   "source": [
    "# Initialize linear model\n",
    "#lqr_gain = np.array([[ -3.1623, -13.1358, 212.228 ,  90.7702]])\n",
    "#lqr_gain = np.array([[ -1.    ,  -6.0753, 158.7933,  66.4522]])\n",
    "#lqr_gain = np.array([[-10.    , -34.8584, 382.6953, 168.9981]])\n",
    "#lqr_gain = np.array([[-100.00,   -197.54,   1491.28,    668.44]])  # From test_run_lqr.py\n",
    "#lqr_gain = np.array([[-100.    , -321.3686, 2691.7527, 1232.2092]])\n",
    "#lqr_gain = np.array([[-31.6228, -66.2074, 574.0288, 253.7828]])\n",
    "lqr_gain = np.array([[-100.    , -197.5366, 1491.2808,  668.4449]])\n",
    "    \n",
    "model = LQRCartPend(None, env, gain=lqr_gain)\n",
    "model.gain"
   ]
  },
  {
   "cell_type": "code",
   "execution_count": 15,
   "id": "3c44310a",
   "metadata": {},
   "outputs": [
    {
     "data": {
      "text/plain": [
       "(array([[-100.    , -197.5366, 1491.2808,  668.4449]]),\n",
       " array([[1, 0, 0, 0],\n",
       "        [0, 1, 0, 0],\n",
       "        [0, 0, 1, 0],\n",
       "        [0, 0, 0, 1]]),\n",
       " 0.0001)"
      ]
     },
     "execution_count": 15,
     "metadata": {},
     "output_type": "execute_result"
    }
   ],
   "source": [
    "lqr_gain, Q, R"
   ]
  },
  {
   "cell_type": "code",
   "execution_count": 16,
   "id": "03fe0022",
   "metadata": {},
   "outputs": [
    {
     "data": {
      "text/plain": [
       "(100, 3)"
      ]
     },
     "execution_count": 16,
     "metadata": {},
     "output_type": "execute_result"
    }
   ],
   "source": [
    "trajectory = simulation_rollout(env, model, n_steps=None, \n",
    "                                log=False, render=False)\n",
    "out = np.array(trajectory, dtype=object)\n",
    "out.shape"
   ]
  },
  {
   "cell_type": "code",
   "execution_count": 17,
   "id": "a72102fa",
   "metadata": {},
   "outputs": [
    {
     "name": "stdout",
     "output_type": "stream",
     "text": [
      "Avg. cum reward: -0.591\n"
     ]
    },
    {
     "data": {
      "image/png": "[encoded data removed]",
      "text/plain": [
       "<Figure size 324x216 with 1 Axes>"
      ]
     },
     "metadata": {
      "needs_background": "light"
     },
     "output_type": "display_data"
    }
   ],
   "source": [
    "n_repeats = 100\n",
    "states, actions, rewards = simulation_rollouts(env, model, n_steps=None, n_repeats=n_repeats, \n",
    "                                               log=True, render=False)\n",
    "assert(states.shape == (n_repeats, 100, 4))\n",
    "assert(actions.shape == (n_repeats, 100, 1))\n",
    "assert(rewards.shape == (n_repeats, 100))\n",
    "\n",
    "cum_rewards = np.sum(rewards, axis=1)\n",
    "print(f\"Avg. cum reward: {np.mean(cum_rewards):0.3f}\")\n",
    "pd.Series(cum_rewards).hist(figsize=(4.5, 3))\n",
    "plt.show()"
   ]
  },
  {
   "cell_type": "markdown",
   "id": "74903986",
   "metadata": {},
   "source": [
    "## Kalman filter design"
   ]
  },
  {
   "cell_type": "code",
   "execution_count": 18,
   "id": "6feb4914",
   "metadata": {},
   "outputs": [],
   "source": [
    "env = gym.make('CartPole-BT-p2-vH-v0')"
   ]
  },
  {
   "cell_type": "code",
   "execution_count": 19,
   "id": "d7a6bd6f",
   "metadata": {},
   "outputs": [
    {
     "data": {
      "text/plain": [
       "[(4, 4), (4, 1), (2, 4), (2, 1)]"
      ]
     },
     "execution_count": 19,
     "metadata": {},
     "output_type": "execute_result"
    }
   ],
   "source": [
    "# Get continuous time state-space matrices for linearized\n",
    "# model of cart-pendulum system in vertiacal up position:\n",
    "A, B = cartpend_ss()\n",
    "C = env.output_matrix\n",
    "D = np.array([[ 0. ],\n",
    "              [ 0. ]], dtype='float32')\n",
    "[a.shape for a in [A, B, C, D]]"
   ]
  },
  {
   "cell_type": "code",
   "execution_count": 20,
   "id": "3f59dd88",
   "metadata": {},
   "outputs": [
    {
     "data": {
      "text/latex": [
       "\\[\n",
       "\\left(\n",
       "\\begin{array}{rllrllrllrll|rll}\n",
       "0\\phantom{.}&\\hspace{-1em}&\\hspace{-1em}\\phantom{\\cdot}&1\\phantom{.}&\\hspace{-1em}&\\hspace{-1em}\\phantom{\\cdot}&0\\phantom{.}&\\hspace{-1em}&\\hspace{-1em}\\phantom{\\cdot}&0\\phantom{.}&\\hspace{-1em}&\\hspace{-1em}\\phantom{\\cdot}&0\\phantom{.}&\\hspace{-1em}&\\hspace{-1em}\\phantom{\\cdot}\\\\\n",
       "0\\phantom{.}&\\hspace{-1em}&\\hspace{-1em}\\phantom{\\cdot}&-0.&\\hspace{-1em}2&\\hspace{-1em}\\phantom{\\cdot}&2\\phantom{.}&\\hspace{-1em}&\\hspace{-1em}\\phantom{\\cdot}&0\\phantom{.}&\\hspace{-1em}&\\hspace{-1em}\\phantom{\\cdot}&0.&\\hspace{-1em}2&\\hspace{-1em}\\phantom{\\cdot}\\\\\n",
       "0\\phantom{.}&\\hspace{-1em}&\\hspace{-1em}\\phantom{\\cdot}&0\\phantom{.}&\\hspace{-1em}&\\hspace{-1em}\\phantom{\\cdot}&0\\phantom{.}&\\hspace{-1em}&\\hspace{-1em}\\phantom{\\cdot}&1\\phantom{.}&\\hspace{-1em}&\\hspace{-1em}\\phantom{\\cdot}&0\\phantom{.}&\\hspace{-1em}&\\hspace{-1em}\\phantom{\\cdot}\\\\\n",
       "0\\phantom{.}&\\hspace{-1em}&\\hspace{-1em}\\phantom{\\cdot}&-0.&\\hspace{-1em}1&\\hspace{-1em}\\phantom{\\cdot}&6\\phantom{.}&\\hspace{-1em}&\\hspace{-1em}\\phantom{\\cdot}&0\\phantom{.}&\\hspace{-1em}&\\hspace{-1em}\\phantom{\\cdot}&0.&\\hspace{-1em}1&\\hspace{-1em}\\phantom{\\cdot}\\\\\n",
       "\\hline\n",
       "1\\phantom{.}&\\hspace{-1em}&\\hspace{-1em}\\phantom{\\cdot}&0\\phantom{.}&\\hspace{-1em}&\\hspace{-1em}\\phantom{\\cdot}&0\\phantom{.}&\\hspace{-1em}&\\hspace{-1em}\\phantom{\\cdot}&0\\phantom{.}&\\hspace{-1em}&\\hspace{-1em}\\phantom{\\cdot}&0\\phantom{.}&\\hspace{-1em}&\\hspace{-1em}\\phantom{\\cdot}\\\\\n",
       "0\\phantom{.}&\\hspace{-1em}&\\hspace{-1em}\\phantom{\\cdot}&0\\phantom{.}&\\hspace{-1em}&\\hspace{-1em}\\phantom{\\cdot}&1\\phantom{.}&\\hspace{-1em}&\\hspace{-1em}\\phantom{\\cdot}&0\\phantom{.}&\\hspace{-1em}&\\hspace{-1em}\\phantom{\\cdot}&0\\phantom{.}&\\hspace{-1em}&\\hspace{-1em}\\phantom{\\cdot}\\\\\n",
       "\\end{array}\\right)\n",
       "\\]"
      ],
      "text/plain": [
       "StateSpace(array([[ 0. ,  1. ,  0. ,  0. ],\n",
       "       [ 0. , -0.2,  2. ,  0. ],\n",
       "       [ 0. ,  0. ,  0. ,  1. ],\n",
       "       [ 0. , -0.1,  6. ,  0. ]]), array([[0. ],\n",
       "       [0.2],\n",
       "       [0. ],\n",
       "       [0.1]]), array([[1., 0., 0., 0.],\n",
       "       [0., 0., 1., 0.]]), array([[0.],\n",
       "       [0.]]))"
      ]
     },
     "execution_count": 20,
     "metadata": {},
     "output_type": "execute_result"
    }
   ],
   "source": [
    "# Construct continous time state space model\n",
    "Gcss = control.ss(A, B, C, D)\n",
    "Gcss"
   ]
  },
  {
   "cell_type": "code",
   "execution_count": 21,
   "id": "db24fcfa",
   "metadata": {},
   "outputs": [
    {
     "data": {
      "text/latex": [
       "\\[\n",
       "\\left(\n",
       "\\begin{array}{rllrllrllrll|rll}\n",
       "1\\phantom{.}&\\hspace{-1em}&\\hspace{-1em}\\phantom{\\cdot}&0.&\\hspace{-1em}0498&\\hspace{-1em}\\phantom{\\cdot}&0.&\\hspace{-1em}00249&\\hspace{-1em}\\phantom{\\cdot}&4.&\\hspace{-1em}16&\\hspace{-1em}\\cdot10^{-5}&0.&\\hspace{-1em}000249&\\hspace{-1em}\\phantom{\\cdot}\\\\\n",
       "0\\phantom{.}&\\hspace{-1em}&\\hspace{-1em}\\phantom{\\cdot}&0.&\\hspace{-1em}99&\\hspace{-1em}\\phantom{\\cdot}&0.&\\hspace{-1em}0998&\\hspace{-1em}\\phantom{\\cdot}&0.&\\hspace{-1em}00249&\\hspace{-1em}\\phantom{\\cdot}&0.&\\hspace{-1em}00995&\\hspace{-1em}\\phantom{\\cdot}\\\\\n",
       "0\\phantom{.}&\\hspace{-1em}&\\hspace{-1em}\\phantom{\\cdot}&-0.&\\hspace{-1em}000125&\\hspace{-1em}\\phantom{\\cdot}&1.&\\hspace{-1em}01&\\hspace{-1em}\\phantom{\\cdot}&0.&\\hspace{-1em}0501&\\hspace{-1em}\\phantom{\\cdot}&0.&\\hspace{-1em}000125&\\hspace{-1em}\\phantom{\\cdot}\\\\\n",
       "0\\phantom{.}&\\hspace{-1em}&\\hspace{-1em}\\phantom{\\cdot}&-0.&\\hspace{-1em}00499&\\hspace{-1em}\\phantom{\\cdot}&0.&\\hspace{-1em}301&\\hspace{-1em}\\phantom{\\cdot}&1.&\\hspace{-1em}01&\\hspace{-1em}\\phantom{\\cdot}&0.&\\hspace{-1em}00499&\\hspace{-1em}\\phantom{\\cdot}\\\\\n",
       "\\hline\n",
       "1\\phantom{.}&\\hspace{-1em}&\\hspace{-1em}\\phantom{\\cdot}&0\\phantom{.}&\\hspace{-1em}&\\hspace{-1em}\\phantom{\\cdot}&0\\phantom{.}&\\hspace{-1em}&\\hspace{-1em}\\phantom{\\cdot}&0\\phantom{.}&\\hspace{-1em}&\\hspace{-1em}\\phantom{\\cdot}&0\\phantom{.}&\\hspace{-1em}&\\hspace{-1em}\\phantom{\\cdot}\\\\\n",
       "0\\phantom{.}&\\hspace{-1em}&\\hspace{-1em}\\phantom{\\cdot}&0\\phantom{.}&\\hspace{-1em}&\\hspace{-1em}\\phantom{\\cdot}&1\\phantom{.}&\\hspace{-1em}&\\hspace{-1em}\\phantom{\\cdot}&0\\phantom{.}&\\hspace{-1em}&\\hspace{-1em}\\phantom{\\cdot}&0\\phantom{.}&\\hspace{-1em}&\\hspace{-1em}\\phantom{\\cdot}\\\\\n",
       "\\end{array}\\right)\n",
       "\\]"
      ],
      "text/plain": [
       "StateSpace(array([[ 1.00000000e+00,  4.97507794e-02,  2.49480674e-03,\n",
       "         4.15939085e-05],\n",
       "       [ 0.00000000e+00,  9.90045685e-01,  9.97511222e-02,\n",
       "         2.49480674e-03],\n",
       "       [ 0.00000000e+00, -1.24740337e-04,  1.00750522e+00,\n",
       "         5.01250418e-02],\n",
       "       [ 0.00000000e+00, -4.98755611e-03,  3.00500770e-01,\n",
       "         1.00750522e+00]]), array([[0.00024922],\n",
       "       [0.00995432],\n",
       "       [0.00012474],\n",
       "       [0.00498756]]), array([[1., 0., 0., 0.],\n",
       "       [0., 0., 1., 0.]]), array([[0.],\n",
       "       [0.]]), 0.05)"
      ]
     },
     "execution_count": 21,
     "metadata": {},
     "output_type": "execute_result"
    }
   ],
   "source": [
    "# Convert to discrete-time model\n",
    "Gdss = control.c2d(Gcss, env.tau)\n",
    "Gdss"
   ]
  },
  {
   "cell_type": "code",
   "execution_count": 22,
   "id": "1b8f99ae",
   "metadata": {},
   "outputs": [
    {
     "data": {
      "text/plain": [
       "{'A': array([[ 1.00000000e+00,  4.97507794e-02,  2.49480674e-03,\n",
       "          4.15939085e-05],\n",
       "        [ 0.00000000e+00,  9.90045685e-01,  9.97511222e-02,\n",
       "          2.49480674e-03],\n",
       "        [ 0.00000000e+00, -1.24740337e-04,  1.00750522e+00,\n",
       "          5.01250418e-02],\n",
       "        [ 0.00000000e+00, -4.98755611e-03,  3.00500770e-01,\n",
       "          1.00750522e+00]]),\n",
       " 'B': array([[0.00024922],\n",
       "        [0.00995432],\n",
       "        [0.00012474],\n",
       "        [0.00498756]]),\n",
       " 'C': array([[1., 0., 0., 0.],\n",
       "        [0., 0., 1., 0.]]),\n",
       " 'D': array([[0.],\n",
       "        [0.]])}"
      ]
     },
     "execution_count": 22,
     "metadata": {},
     "output_type": "execute_result"
    }
   ],
   "source": [
    "KF = {\n",
    "    'A': Gdss.A,\n",
    "    'B': Gdss.B,\n",
    "    'C': Gdss.C,\n",
    "    'D': Gdss.D\n",
    "}\n",
    "KF"
   ]
  },
  {
   "cell_type": "code",
   "execution_count": 23,
   "id": "fe68ee72",
   "metadata": {},
   "outputs": [],
   "source": [
    "# Solving discrete algebraic Riccati equation\n",
    "# In MATLAB\n",
    "# [X,K,L] = idare(A,B,Q,R,S,E) computes the stabilizing solution X of\n",
    "#     the discrete-time algebraic Riccati equation\n",
    "#                                          -1 \n",
    "#        E'XE = A'XA - (A'XB + S)(B'XB + R)  (A'XB + S)' + Q\n",
    "#  \n",
    "#     The matrices Q,R must be Hermitian and E must be nonsingular. When \n",
    "#     omitted or set to [], R,S,E default to the values R=I, S=0, E=I. \n",
    "#     Scalar-valued Q,R are interpreted as multiples of the identity matrix. \n",
    "#     idare also returns the state-feedback gain K and the closed-loop\n",
    "#     eigenvalues L given by\n",
    "#                      -1\n",
    "#        K = (B'XB + R)  (B'XA + S'),    L = EIG(A-B*K,E) .\n",
    "# \n",
    "# Example from GEL-7029, exercise 12.3:\n",
    "#  A = 0.8; B = 2; C = 0.5; Q = 0.3; R = 1.1;\n",
    "# [X,K,L,info] = idare(A,C',Q,R,[],[]);\n",
    "# X = 0.6741\n",
    "# In Python:\n",
    "# A = np.array([[0.8]]); C = np.array([[0.5]]); Q = np.array([[0.3]]); R = np.array([[1.1]]);\n",
    "# X, L, G = control.dare(A.T, C.T, Q, R)\n",
    "# assert(X.round(4) == 0.6741)"
   ]
  },
  {
   "cell_type": "code",
   "execution_count": 24,
   "id": "d2bce5e2",
   "metadata": {},
   "outputs": [
    {
     "name": "stdout",
     "output_type": "stream",
     "text": [
      "Help on function dare in module control.mateqn:\n",
      "\n",
      "dare(A, B, Q, R, S=None, E=None, stabilizing=True)\n",
      "    (X, L, G) = dare(A, B, Q, R) solves the discrete-time algebraic Riccati\n",
      "    equation\n",
      "    \n",
      "        :math:`A^T X A - X - A^T X B (B^T X B + R)^{-1} B^T X A + Q = 0`\n",
      "    \n",
      "    where A and Q are square matrices of the same dimension. Further, Q\n",
      "    is a symmetric matrix. The function returns the solution X, the gain\n",
      "    matrix G = (B^T X B + R)^-1 B^T X A and the closed loop eigenvalues L,\n",
      "    i.e., the eigenvalues of A - B G.\n",
      "    \n",
      "    (X, L, G) = dare(A, B, Q, R, S, E) solves the generalized discrete-time\n",
      "    algebraic Riccati equation\n",
      "    \n",
      "        :math:`A^T X A - E^T X E - (A^T X B + S) (B^T X B + R)^{-1} (B^T X A + S^T) + Q = 0`\n",
      "    \n",
      "    where A, Q and E are square matrices of the same dimension. Further, Q and\n",
      "    R are symmetric matrices. The function returns the solution X, the gain\n",
      "    matrix :math:`G = (B^T X B + R)^{-1} (B^T X A + S^T)` and the closed loop\n",
      "    eigenvalues L, i.e., the eigenvalues of A - B G , E.\n",
      "    \n",
      "    Parameters\n",
      "    ----------\n",
      "    A, B, Q : 2D arrays\n",
      "        Input matrices for the Riccati equation\n",
      "    R, S, E : 2D arrays, optional\n",
      "        Input matrices for generalized Riccati equation\n",
      "    \n",
      "    Returns\n",
      "    -------\n",
      "    X : 2D array (or matrix)\n",
      "        Solution to the Ricatti equation\n",
      "    L : 1D array\n",
      "        Closed loop eigenvalues\n",
      "    G : 2D array (or matrix)\n",
      "        Gain matrix\n",
      "    \n",
      "    Notes\n",
      "    -----\n",
      "    The return type for 2D arrays depends on the default class set for\n",
      "    state space operations.  See :func:`~control.use_numpy_matrix`.\n",
      "\n"
     ]
    }
   ],
   "source": [
    "help(control.dare)"
   ]
  },
  {
   "cell_type": "code",
   "execution_count": 25,
   "id": "c051ba03",
   "metadata": {},
   "outputs": [
    {
     "name": "stdout",
     "output_type": "stream",
     "text": [
      "[[ 1.03962720e+00  2.07302137e-03]\n",
      " [ 7.90472757e-01  9.32428877e-02]\n",
      " [-7.72253147e-04  1.06420691e+00]\n",
      " [-1.75014331e-02  1.44210117e+00]]\n",
      "[0.95+0.j 0.95-0.j 0.  +0.j 0.  +0.j]\n"
     ]
    }
   ],
   "source": [
    "# Compute discrete-time Kalman filter gain matrix\n",
    "Q = np.eye(4)\n",
    "R = 0.01**2*np.eye(2)\n",
    "X, L, G = control.dare(KF['A'].T, KF['C'].T, Q, R)\n",
    "P = X\n",
    "K = G.T\n",
    "print(K)\n",
    "print(L.round(2))"
   ]
  },
  {
   "cell_type": "code",
   "execution_count": 26,
   "id": "6e0373a2",
   "metadata": {},
   "outputs": [
    {
     "data": {
      "text/plain": [
       "array([9.50511398e-01+0.00349618j, 9.50511398e-01-0.00349618j,\n",
       "       9.99800383e-05+0.j        , 9.92342699e-05+0.j        ])"
      ]
     },
     "execution_count": 26,
     "metadata": {},
     "output_type": "execute_result"
    }
   ],
   "source": [
    "# Poles\n",
    "L"
   ]
  },
  {
   "cell_type": "code",
   "execution_count": 27,
   "id": "b5b081b1",
   "metadata": {},
   "outputs": [],
   "source": [
    "# Computed in MATLAB:\n",
    "kf_gain_ML = \"\"\"\n",
    "    1.0396    0.0021\n",
    "    0.7905    0.0932\n",
    "   -0.0008    1.0642\n",
    "   -0.0175    1.4421\n",
    "\"\"\"\n",
    "kf_gain_ML = np.fromstring(kf_gain_ML, dtype='float32', sep=' ', count=8).reshape(4, 2)\n",
    "assert(np.isclose(K, kf_gain_ML, atol=1e-03).all())"
   ]
  },
  {
   "cell_type": "markdown",
   "id": "7e4e66d2",
   "metadata": {},
   "source": [
    "## LQG Simulation tests"
   ]
  },
  {
   "cell_type": "code",
   "execution_count": 28,
   "id": "5d081517",
   "metadata": {},
   "outputs": [],
   "source": [
    "import control_baselines\n",
    "from importlib import reload\n",
    "reload(control_baselines)\n",
    "from control_baselines import LQR, LQRCartPend, LQGCartPend "
   ]
  },
  {
   "cell_type": "code",
   "execution_count": 29,
   "id": "838fbbf5",
   "metadata": {},
   "outputs": [],
   "source": [
    "env = gym.make('CartPole-BT-p2-vH-v0')"
   ]
  },
  {
   "cell_type": "code",
   "execution_count": 30,
   "id": "de92d9bb",
   "metadata": {},
   "outputs": [],
   "source": [
    "# Initialize linear model\n",
    "#lqr_gain = np.array([[ -3.1623, -13.1358, 212.228 ,  90.7702]])\n",
    "#lqr_gain = np.array([[ -1.    ,  -6.0753, 158.7933,  66.4522]])\n",
    "#lqr_gain = np.array([[-10.    , -34.8584, 382.6953, 168.9981]])\n",
    "#lqr_gain = np.array([[-100.00,   -197.54,   1491.28,    668.44]])  # From test_run_lqr.py\n",
    "#lqr_gain = np.array([[-100.    , -321.3686, 2691.7527, 1232.2092]])\n",
    "#lqr_gain = np.array([[-31.6228, -66.2074, 574.0288, 253.7828]])\n",
    "lqr_gain = np.array([[-100.    , -197.5366, 1491.2808,  668.4449]])\n",
    "\n",
    "model = LQGCartPend(None, env, gain=lqr_gain)"
   ]
  },
  {
   "cell_type": "code",
   "execution_count": 31,
   "id": "1d01ac1d",
   "metadata": {},
   "outputs": [
    {
     "data": {
      "text/plain": [
       "array([[-100.    , -197.5366, 1491.2808,  668.4449]], dtype=float32)"
      ]
     },
     "execution_count": 31,
     "metadata": {},
     "output_type": "execute_result"
    }
   ],
   "source": [
    "model.gain"
   ]
  },
  {
   "cell_type": "code",
   "execution_count": 32,
   "id": "47534462",
   "metadata": {},
   "outputs": [
    {
     "data": {
      "text/plain": [
       "array([[1.03698023, 0.09272008],\n",
       "       [0.74619911, 3.13279722],\n",
       "       [0.02786013, 1.11201979],\n",
       "       [0.56180153, 3.01500955]])"
      ]
     },
     "execution_count": 32,
     "metadata": {},
     "output_type": "execute_result"
    }
   ],
   "source": [
    "model.kf_gain"
   ]
  },
  {
   "cell_type": "code",
   "execution_count": 33,
   "id": "aedf53e1",
   "metadata": {},
   "outputs": [],
   "source": [
    "Gcss = control.ss(A, B, C, D)\n",
    "Gdss = control.c2d(Gcss, env.tau)\n",
    "A = Gdss.A\n",
    "B = Gdss.B\n",
    "C = Gdss.C\n",
    "D = Gdss.D"
   ]
  },
  {
   "cell_type": "code",
   "execution_count": 34,
   "id": "e8e3dd3f",
   "metadata": {},
   "outputs": [],
   "source": [
    "Q = 0.1**2 * np.eye(4)\n",
    "R = 0.001**2 * np.eye(2)"
   ]
  },
  {
   "cell_type": "code",
   "execution_count": 35,
   "id": "3ba28912",
   "metadata": {},
   "outputs": [],
   "source": [
    "X, L, G = control.dare(A.T, C.T, Q, R)\n",
    "P = X.T\n",
    "kf_gain = G.T"
   ]
  },
  {
   "cell_type": "code",
   "execution_count": 36,
   "id": "a84b29f1",
   "metadata": {},
   "outputs": [
    {
     "data": {
      "text/plain": [
       "array([[ 1.03962720e+00,  2.07302137e-03],\n",
       "       [ 7.90472757e-01,  9.32428877e-02],\n",
       "       [-7.72253147e-04,  1.06420691e+00],\n",
       "       [-1.75014331e-02,  1.44210117e+00]])"
      ]
     },
     "execution_count": 36,
     "metadata": {},
     "output_type": "execute_result"
    }
   ],
   "source": [
    "kf_gain"
   ]
  },
  {
   "cell_type": "code",
   "execution_count": 37,
   "id": "90e51848",
   "metadata": {},
   "outputs": [
    {
     "data": {
      "text/plain": [
       "array([[0.],\n",
       "       [0.],\n",
       "       [0.],\n",
       "       [0.]], dtype=float32)"
      ]
     },
     "execution_count": 37,
     "metadata": {},
     "output_type": "execute_result"
    }
   ],
   "source": [
    "model.x_est"
   ]
  },
  {
   "cell_type": "code",
   "execution_count": 38,
   "id": "6a134837",
   "metadata": {},
   "outputs": [],
   "source": [
    "assert(model.A.shape == (4, 4))\n",
    "assert(model.B.shape == (4, 1))\n",
    "assert(model.C.shape == (2, 4))\n",
    "assert(model.D.shape == (2, 1))"
   ]
  },
  {
   "cell_type": "code",
   "execution_count": 39,
   "id": "34e16601",
   "metadata": {},
   "outputs": [],
   "source": [
    "assert(model.x_est.shape == (4, 1))"
   ]
  },
  {
   "cell_type": "code",
   "execution_count": 40,
   "id": "2eddbbee",
   "metadata": {},
   "outputs": [
    {
     "data": {
      "text/plain": [
       "array([0.])"
      ]
     },
     "execution_count": 40,
     "metadata": {},
     "output_type": "execute_result"
    }
   ],
   "source": [
    "model.u"
   ]
  },
  {
   "cell_type": "code",
   "execution_count": 41,
   "id": "b178b4bb",
   "metadata": {},
   "outputs": [
    {
     "data": {
      "text/plain": [
       "array([[0.]], dtype=float32)"
      ]
     },
     "execution_count": 41,
     "metadata": {},
     "output_type": "execute_result"
    }
   ],
   "source": [
    "self = model\n",
    "-self.gain @ self.x_est"
   ]
  },
  {
   "cell_type": "code",
   "execution_count": 42,
   "id": "06fed5ef",
   "metadata": {},
   "outputs": [
    {
     "data": {
      "text/plain": [
       "array([[-0.24214813],\n",
       "       [ 3.376036  ]], dtype=float32)"
      ]
     },
     "execution_count": 42,
     "metadata": {},
     "output_type": "execute_result"
    }
   ],
   "source": [
    "observation = env.reset()\n",
    "observation.reshape(2, 1)"
   ]
  },
  {
   "cell_type": "code",
   "execution_count": 43,
   "id": "fc4a510d",
   "metadata": {},
   "outputs": [
    {
     "data": {
      "text/plain": [
       "array([0.       , 0.       , 3.1415927, 0.       ], dtype=float32)"
      ]
     },
     "execution_count": 43,
     "metadata": {},
     "output_type": "execute_result"
    }
   ],
   "source": [
    "self.env.goal_state"
   ]
  },
  {
   "cell_type": "code",
   "execution_count": 44,
   "id": "eab1e1e1",
   "metadata": {},
   "outputs": [
    {
     "data": {
      "text/plain": [
       "array([[-0.24214813],\n",
       "       [ 0.23444319]], dtype=float32)"
      ]
     },
     "execution_count": 44,
     "metadata": {},
     "output_type": "execute_result"
    }
   ],
   "source": [
    "ym = observation.reshape(2, 1) - self.C @ self.env.goal_state.reshape(4, 1)\n",
    "ym"
   ]
  },
  {
   "cell_type": "code",
   "execution_count": 45,
   "id": "3a38a04b",
   "metadata": {},
   "outputs": [
    {
     "data": {
      "text/plain": [
       "array([[-0.24214813],\n",
       "       [ 0.23444319]], dtype=float32)"
      ]
     },
     "execution_count": 45,
     "metadata": {},
     "output_type": "execute_result"
    }
   ],
   "source": [
    "error = ym - self.C @ self.x_est\n",
    "error"
   ]
  },
  {
   "cell_type": "code",
   "execution_count": 46,
   "id": "1802f356",
   "metadata": {},
   "outputs": [
    {
     "data": {
      "text/plain": [
       "array([[-0.22936523],\n",
       "       [ 0.55377225],\n",
       "       [ 0.25395919],\n",
       "       [ 0.57080926]])"
      ]
     },
     "execution_count": 46,
     "metadata": {},
     "output_type": "execute_result"
    }
   ],
   "source": [
    "self.A @ self.x_est + self.B @ self.u.reshape(-1, 1) + self.kf_gain @ error"
   ]
  },
  {
   "cell_type": "code",
   "execution_count": 47,
   "id": "8d7462f3",
   "metadata": {},
   "outputs": [
    {
     "data": {
      "text/plain": [
       "(array([0.]), None)"
      ]
     },
     "execution_count": 47,
     "metadata": {},
     "output_type": "execute_result"
    }
   ],
   "source": [
    "model.predict(observation)"
   ]
  },
  {
   "cell_type": "code",
   "execution_count": null,
   "id": "b5e0a285",
   "metadata": {},
   "outputs": [],
   "source": []
  },
  {
   "cell_type": "code",
   "execution_count": null,
   "id": "8f6973c4",
   "metadata": {},
   "outputs": [],
   "source": []
  },
  {
   "cell_type": "code",
   "execution_count": null,
   "id": "32d54998",
   "metadata": {},
   "outputs": [],
   "source": []
  },
  {
   "cell_type": "code",
   "execution_count": 48,
   "id": "edc66841",
   "metadata": {},
   "outputs": [
    {
     "data": {
      "text/plain": [
       "(100, 3)"
      ]
     },
     "execution_count": 48,
     "metadata": {},
     "output_type": "execute_result"
    }
   ],
   "source": [
    "trajectory = simulation_rollout(env, model, n_steps=None, \n",
    "                                log=False, render=False)\n",
    "out = np.array(trajectory, dtype=object)\n",
    "out.shape"
   ]
  },
  {
   "cell_type": "code",
   "execution_count": 49,
   "id": "7e985d64",
   "metadata": {},
   "outputs": [
    {
     "data": {
      "text/plain": [
       "array([[-100.    , -197.5366, 1491.2808,  668.4449]], dtype=float32)"
      ]
     },
     "execution_count": 49,
     "metadata": {},
     "output_type": "execute_result"
    }
   ],
   "source": [
    "observation = env.reset()\n",
    "\n",
    "lqr_gain = np.array([[-100.    , -197.5366, 1491.2808,  668.4449]])\n",
    "model = LQGCartPend(None, env, gain=lqr_gain)\n",
    "\n",
    "model.gain"
   ]
  },
  {
   "cell_type": "code",
   "execution_count": 50,
   "id": "a50731bf",
   "metadata": {},
   "outputs": [
    {
     "data": {
      "text/plain": [
       "array([[1.03698023, 0.09272008],\n",
       "       [0.74619911, 3.13279722],\n",
       "       [0.02786013, 1.11201979],\n",
       "       [0.56180153, 3.01500955]])"
      ]
     },
     "execution_count": 50,
     "metadata": {},
     "output_type": "execute_result"
    }
   ],
   "source": [
    "# TODO: This is not the same as test_run_lqg.py\n",
    "model.kf_gain"
   ]
  },
  {
   "cell_type": "code",
   "execution_count": 51,
   "id": "322dec59",
   "metadata": {},
   "outputs": [
    {
     "name": "stdout",
     "output_type": "stream",
     "text": [
      "  k      u reward cum_reward\n",
      "----------------------------\n",
      "  1:   0.0  -0.03       -0.0\n",
      "  2: 351.3  -0.03       -0.1\n",
      "  3: -46315.3  -0.04       -0.1\n",
      "  4: 6158360.9  -0.06       -0.2\n",
      "  5: -819173558.1  -0.07       -0.2\n",
      "  6: 108966602798.9  -0.09       -0.3\n",
      "  7: -14494763972015.1  -0.12       -0.4\n",
      "  8: 1928097066082983.0  -0.14       -0.6\n",
      "  9: -256475945827381824.0  -0.17       -0.8\n",
      " 10: 34116493379506774016.0  -0.20       -1.0\n",
      " 11: -4538184338341986566144.0  -0.23       -1.2\n",
      " 12: 603670396593119185338368.0  -0.27       -1.5\n",
      " 13: -80300384593022823568506880.0  -0.30       -1.8\n",
      " 14: 10681576903850576239424176128.0  -0.34       -2.1\n",
      " 15: -1420865986273092637750865166336.0  -0.39       -2.5\n",
      " 16: 189003942874767357505265293328384.0  -0.43       -2.9\n",
      " 17: -25141350955910926393133745949376512.0  -0.48       -3.4\n",
      " 18: 3344308686232538209805821600382058496.0  -0.53       -3.9\n",
      " 19: -444860763784090222563105250449758879744.0  -0.59       -4.5\n",
      " 20: 59175488186620018795572324560653831372800.0  -0.65       -5.2\n",
      " 21: -7871537989410877478417179311113259349704704.0  -0.71       -5.9\n",
      " 22: 1047073918905978174673335974164745661318168576.0  -0.78       -6.7\n",
      " 23: -139282030160814486113680027920869312274454544384.0  -0.86       -7.5\n",
      " 24: 18527329900440399197175281642436758739976286371840.0  -0.94       -8.5\n",
      " 25: -2464509979093671589894908304554349370415767053402112.0  -1.03       -9.5\n",
      " 26: 327829723424307835837191199940927233479097830449610752.0  -1.13      -10.6\n",
      " 27: -43607990420871160315910764845528025705698979833081495552.0  -1.24      -11.9\n",
      " 28: 5800745608675295022457402597671983967513387221525741961216.0  -1.37      -13.2\n",
      " 29: -771616607227587208547906616913320186307923898255448653955072.0  -1.50      -14.7\n",
      " 30: 102640630828384376889290821859722827210665269216425685966389248.0  -1.66      -16.4\n",
      " 31: -13653281951384153184981708843528181126199316859249199143303774208.0  -1.84      -18.2\n",
      " 32: 1816162922416894559293731996298337776486704733197207713391172386816.0  -2.04      -20.3\n",
      " 33: -241586438521287730636693002557859141954883604218910841655822215282688.0  -2.27      -22.6\n",
      " 34: 32135887456468309524953037573183658375180797014398735416601632351191040.0  -2.53      -25.1\n",
      " 35: -4274723651442872161251706667802912909287891945477415771088272361848307712.0  -2.83      -27.9\n",
      " 36: 568624791238713276992692398248345668172160107184824227035117083067599028224.0  -3.16      -31.1\n",
      " 37: -75638609551317615806806742555695869527837063457852101928067210554059857592320.0  -3.54      -34.6\n",
      " 38: 10061466441506020543903735329928490275816005203522281675235147618445487203418112.0  -3.97      -38.6\n",
      " 39: -1338378740091320522681795537945129722324711869224040025103506788264401958946734080.0  -4.45      -43.0\n",
      " 40: 178031469104647947594993148147843527565482047514056533772875675250418361341258498048.0  -4.99      -48.0\n",
      " 41: -23681789796957300753199695541155390027848385992600993976167400560978076553972180582400.0  -5.59      -53.6\n",
      " 42: 3150157501972942358008475319741993402355840558230096383448496473462706266149427989184512.0  -6.26      -59.9\n",
      " 43: -419034725513500203789156439644723286267122009806746760758804613514606860935578098610470912.0  -7.03      -66.9\n",
      " 44: 55740102225429152931386062538452660121107376355855501216651763569253271648874983618592636928.0  -7.87      -74.8\n",
      " 45: -7414562104116583961193062701950635357171840993098983385652570586047810912199432548592788701184.0  -8.85      -83.6\n",
      " 46: 986286874277049226679368368181091573827943896024802285063069921264837015799947002641503615975424.0  -9.94      -93.6\n",
      " 47: -131196122537177513781264353150187923729807480315175351963242148648033857582435252210768729736216576.0 -11.17     -104.7\n",
      " 48: 17451740480077718035505297928462420982521303747315944088952493502700518685882971742323259590152552448.0 -11.05     -115.8\n",
      " 49: -2321434809917327869526879217467894111776998010451007436185661496989813364335518331217161608091209302016.0  -9.51     -125.3\n",
      " 50: 308797829239316056533285345914477188357086132947950746800872738480065253770812417529364127547623726907392.0  -8.16     -133.4\n",
      " 51: -41076363176577766782797933050592785044176110630075553273993961831926743351690580380074319358042427944337408.0  -7.01     -140.4\n",
      " 52: 5463987930130470381542298341012500534832463539415080201862107928503106443714976546312185130235977855930466304.0  -6.05     -146.5\n",
      " 53: -726821018021265184232333365479849503909551381710120943203815585500644607883057794908695242728712975515004174336.0  -5.27     -151.8\n",
      " 54: 96681910537246382080833297185428969173405359278281679769318307145401763034470623304828258643817260474630970277888.0  -4.63     -156.4\n",
      " 55: -12860651513050531825919566374939679046040103769894068102025646298560179752381903879456466476246374222596300207030272.0  -4.13     -160.5\n",
      " 56: 1710727026607635498393935844078834380863797174558209275684446624573790788957393748009311240125424136705160269761871872.0  -3.73     -164.2\n",
      " 57: -227561329734812113335120645042782810776002393669471095920194536635597118221138218664510859273595556937894492289273692160.0  -3.44     -167.7\n",
      " 58: 30270264037018032750217506546150198898259505487368472648647400354327292178078489536272070909415571536846140839464863268864.0  -3.22     -170.9\n",
      " 59: -4026557965444223319358988690088946256410495829496565376868191717142093208366625457840161957399173048789098605383543389421568.0  -3.07     -174.0\n",
      " 60: 535613730665016803564161962325855710572591391327925529250258280424265106752766225442552657521490792872543924118928924153479168.0  -2.97     -176.9\n",
      " 61: -71247470156622321676583370611976740586362325467651185157179063457369985960550035608052114956599262875461397745418030301778542592.0  -2.93     -179.9\n",
      " 62: 9477355999474070075024573190787083673328761023040507284920895439561315103756639455131727939905726840453112899803237933019933179904.0  -2.91     -182.8\n",
      " 63: -1260680225463676323814614044221450486192633252541021521703789304029619045734606621059563221595923367279212133890254610204907731419136.0  -2.93     -185.7\n",
      " 64: 167695993583373081011723154435429263617630278818413360771982222049032766835993184563327192943387394161631496227390281541963399299072000.0  -2.96     -188.7\n",
      " 65: -22306962301698270112667674196916900575022608108942041984072862372472701575730991347191195227947129453058823493700868646032825412826955776.0  -3.01     -191.7\n",
      " 66: 2967277610493398955355080914674163500135732199643360751183080824026708050151312952094926453650581675410133685690108652763403735243522310144.0  -3.08     -194.8\n",
      " 67: -394707997380041772683854021308672552050971316891793381366506556275557785178176392880539812736281172655445329082991927291605153790953781198848.0  -3.15     -197.9\n",
      " 68: 52504154867349164454608374562769864601183176629805130064549469470290799659691537252799612518806822648409555777658955979084627773683972521852928.0  -3.23     -201.1\n",
      " 69: -6984115590848615184582739548143943812470404428882109509084296072375022732790245570334363877844615128649440671846249339057158152568004206055653376.0  -3.31     -204.4\n",
      " 70: 929028773238444574154912624908581154597633204041550917270057249804479033566317369326836980314682730320543075364606951325623613831216699759405301760.0  -3.39     -207.8\n",
      " 71: -123579635857667369723690910287209086292676353541588200691271566167256708197914496180767331848006904435707362459049983386096367938900540706534677544960.0  -3.47     -211.3\n",
      " 72: 16438593549130013851642001036408606169632283409070488763189299666835187341661906947528628804780057965672620072012901908007048555263900209959822061207552.0  -3.56     -214.9\n",
      " 73: -2186665756037125506611379729522646848054252400353049118154982135437406709450813702931375553123410550392474719491344531218370096199018642172822031836381184.0  -3.64     -218.5\n",
      " 74: 290870816553431272100162255703945449208898646969678458898155407571757113790383120488741161004653791997101213429324481218903338232297650066450022099352289280.0  -3.71     -222.2\n",
      " 75: -38691707540977919786147931844741839567751228198127005563515559257386857921423019515604698744444312590319290533665757080562916000131823408684573831401826156544.0  -3.79     -226.0\n",
      " 76: 5146780451113317984718827996967048192097814051641069009106552406550942696389580966785492994890888584200963995438941670639637681409085577182279135401065096151040.0  -3.86     -229.9\n",
      " 77: -684626001163367270876665171458996600916096206289955809869316699300207258596270003477081923532294747470299082215486926259750290709971684820082747086301968702898176.0  -3.93     -233.8\n",
      " 78: 91069119019357776716339373571521206463970304546987133886500112860626984269127638064475301810972157426201408248355957700912801627014033054442670115549898612915830784.0  -4.00     -237.8\n",
      " 79: -12114036605195949410189084804555961873298722465421109863637819207545735558631536841734531243879539037631989206856120869111221093619590234410242279707469055692652937216.0  -4.06     -241.9\n",
      " 80: 1611412127977585762936906956824501236269413728819157524425784207411094768872858943237170214765756719812484698121250294474611603999795894474771978022246904243060205420544.0  -4.13     -246.0\n",
      " 81: -214350437498223972865780160539266888197708801215503054942337987185995476637795884602946236136378145854747796962472454814116258250707564212366421358193794419424334687764480.0  -4.19     -250.2\n",
      " 82: 28512947903243730037448005510354010261835664606552263190164531845135583243372897746469002877808743953238804462794534496213967943180275404078902277952407068332624203294441472.0  -4.25     -254.4\n",
      " 83: -3792799341218172877376764472602412443020724955092616008316882137883466717281131453615075174160354347022063662282617008372509696522032499243371958259035801720418292390049087488.0  -4.30     -258.7\n",
      " 84: 504519100990904093902883592910692850496229678895108509391590064158998092274746088437375860229645480652263494810832789593357150950382957883400755356945945161260990226040021319680.0  -4.36     -263.1\n",
      " 85: -67111254871426150160341157959707499982628206396477740521615727722221401984709472033697794760902171424456538933291941191310559802138251387281815759747139639452078047100949273509888.0  -4.42     -267.5\n",
      " 86: 8927155625171705307295248081902872059587485717791588062030566537459839678008933570332563970613906962948043478494154027538329137979681127216901252992703080614256726218884617022210048.0  -4.49     -272.0\n",
      " 87: -1187492436383663984323723753447531187511122350656951950969203297688917659027854283035498528022624804146152002479956169009872657469604841092517790545600376989445780226712209313035714560.0  -4.57     -276.6\n",
      " 88: 157960535883599212954924810257943359247493191200352261049123121433392299841672723247302724877018589931230437960648081512877638165942527811989247600462836751673150169854179145609792978944.0  -4.66     -281.2\n",
      " 89: -21011949324595356809273364151090409601389223801950328704011627217862164035975513399140234746679387270734579212725186226855921659619744615172500016561201535779841232195538803683088666722304.0  -4.76     -286.0\n",
      " 90: 2795014665844798279780441554410426184633211577791558360847730298642201847898100677432811414503570471577064718950233086359476964122030098984770320046561264204997380519843499965504042194436096.0  -4.89     -290.9\n",
      " 91: -371793538124666588306176631259472688607114215956015343734699724389470783995770952644972517664345016052940729468610232797758541164136985199223987765427796884194339545169173070282215604487192576.0  -5.05     -295.9\n",
      " 92: 49456067862698526581928316885914024261413484723520481667033297327087660119687410330327107802359169125550454297109486596261120962792764816417329009152656645126207098335960967276528093174624681984.0  -5.26     -301.2\n",
      " 93: -6578658307987330335593904945562062150670910505419008575421672971120115425019632912785895743004724939965696586692220099071200143513091201017911610096056221029816465611683594286631235048649724526592.0  -5.51     -306.7\n",
      " 94: 875094745773208292609164213536863927280715061882935919568031202351629267652052437031637335717359904827157514927768983884583407677874598144855592652872653801759921651261639626455530749959240710881280.0  -5.84     -312.5\n",
      " 95: -116405318262252376864928222927286643585769390312073275762086594577302381532973631633730891662160133463208923842154870516562820866077920066963189382369737869286097562508441467202557164301154889983066112.0  -6.24     -318.8\n",
      " 96: 15484264058474854609972273529492118688034864008743919444941013026695249105048968839946788960698386774407618250338878803163389664658621519682962925923424176548926151880853121103646984307674815703870865408.0  -6.75     -325.5\n",
      " 97: -2059720612527422889320147100625252226413284257695848032298779207366287541557212703717295100567356466382420418179146900118149418152790773503392693086298477801444172153040156371963438327055698412426246488064.0  -7.37     -332.9\n",
      " 98: 273984542348873370007246460091888300522381285447675826413860971991056501681062290793038137166865346618795010409475478494106226914211316089614085775252076536013441176022815957016073229372967763100609275756544.0  -8.15     -341.1\n",
      " 99: -36445491194074337844559384057103417416720088171627018427234697290116563383307583946647743029253533578018897173017567709793090160654797050254350726931385647614353764222274153341813136515522801159012694104211456.0  -9.09     -350.1\n",
      "100: 4847988200319767174435994196537263907028997169767763460138343769388038706231396380560466696585539667222927568887430877003761506834425482707633217376931580078625311925080374233641056442961997169881978477196869632.0 -10.24     -360.4\n"
     ]
    }
   ],
   "source": [
    "# Control vector (shape (1, ) in this case)\n",
    "u = np.zeros(1)\n",
    "\n",
    "cum_reward = 0.0\n",
    "\n",
    "print(f\"{'k':>3s}  {'u':>5s} {'reward':>6s} {'cum_reward':>10s}\")\n",
    "print(\"-\"*28)\n",
    "\n",
    "# Run one episode\n",
    "done = False\n",
    "while not done:\n",
    "\n",
    "    # Linear quadratic regulator\n",
    "    # u[t] = -Ky[t]\n",
    "    u[:] = model.predict(observation)[0]\n",
    "\n",
    "    # Run simulation one time-step\n",
    "    observation, reward, done, info = env.step(u)\n",
    "\n",
    "    # Update the animation\n",
    "    #env.render()\n",
    "\n",
    "    # Process the reward\n",
    "    cum_reward += reward\n",
    "\n",
    "    # Print updates\n",
    "    print(f\"{env.time_step:3d}: {u[0]:5.1f} {reward:6.2f} \"\n",
    "          f\"{cum_reward:10.1f}\")\n"
   ]
  },
  {
   "cell_type": "code",
   "execution_count": 52,
   "id": "28652c7f",
   "metadata": {},
   "outputs": [
    {
     "name": "stderr",
     "output_type": "stream",
     "text": [
      "/Users/billtubbs/testing-rl/control_baselines.py:233: RuntimeWarning: overflow encountered in matmul\n",
      "  self.u[:] = -self.gain @ self.x_est\n",
      "/Users/billtubbs/testing-rl/control_baselines.py:233: RuntimeWarning: invalid value encountered in matmul\n",
      "  self.u[:] = -self.gain @ self.x_est\n"
     ]
    },
    {
     "ename": "KeyboardInterrupt",
     "evalue": "",
     "output_type": "error",
     "traceback": [
      "\u001b[0;31m---------------------------------------------------------------------------\u001b[0m",
      "\u001b[0;31mKeyboardInterrupt\u001b[0m                         Traceback (most recent call last)",
      "\u001b[0;32m/var/folders/y3/28pc8qrx3dd36zwcys8z1rzc0000gn/T/ipykernel_15953/681461316.py\u001b[0m in \u001b[0;36m<module>\u001b[0;34m\u001b[0m\n\u001b[1;32m      1\u001b[0m \u001b[0mn_repeats\u001b[0m \u001b[0;34m=\u001b[0m \u001b[0;36m100\u001b[0m\u001b[0;34m\u001b[0m\u001b[0;34m\u001b[0m\u001b[0m\n\u001b[0;32m----> 2\u001b[0;31m observations, actions, rewards = simulation_rollouts(env, model, n_steps=None, n_repeats=n_repeats, \n\u001b[0m\u001b[1;32m      3\u001b[0m                                                log=True, render=False)\n\u001b[1;32m      4\u001b[0m \u001b[0;32massert\u001b[0m\u001b[0;34m(\u001b[0m\u001b[0mobservations\u001b[0m\u001b[0;34m.\u001b[0m\u001b[0mshape\u001b[0m \u001b[0;34m==\u001b[0m \u001b[0;34m(\u001b[0m\u001b[0mn_repeats\u001b[0m\u001b[0;34m,\u001b[0m \u001b[0;36m100\u001b[0m\u001b[0;34m,\u001b[0m \u001b[0;36m2\u001b[0m\u001b[0;34m)\u001b[0m\u001b[0;34m)\u001b[0m\u001b[0;34m\u001b[0m\u001b[0;34m\u001b[0m\u001b[0m\n\u001b[1;32m      5\u001b[0m \u001b[0;32massert\u001b[0m\u001b[0;34m(\u001b[0m\u001b[0mactions\u001b[0m\u001b[0;34m.\u001b[0m\u001b[0mshape\u001b[0m \u001b[0;34m==\u001b[0m \u001b[0;34m(\u001b[0m\u001b[0mn_repeats\u001b[0m\u001b[0;34m,\u001b[0m \u001b[0;36m100\u001b[0m\u001b[0;34m,\u001b[0m \u001b[0;36m1\u001b[0m\u001b[0;34m)\u001b[0m\u001b[0;34m)\u001b[0m\u001b[0;34m\u001b[0m\u001b[0;34m\u001b[0m\u001b[0m\n",
      "\u001b[0;32m~/testing-rl/env_utils.py\u001b[0m in \u001b[0;36msimulation_rollouts\u001b[0;34m(env, model, n_steps, n_repeats, log, render)\u001b[0m\n\u001b[1;32m     79\u001b[0m     \u001b[0;32mfor\u001b[0m \u001b[0mi\u001b[0m \u001b[0;32min\u001b[0m \u001b[0mrange\u001b[0m\u001b[0;34m(\u001b[0m\u001b[0;36m0\u001b[0m\u001b[0;34m,\u001b[0m \u001b[0mn_repeats\u001b[0m\u001b[0;34m)\u001b[0m\u001b[0;34m:\u001b[0m\u001b[0;34m\u001b[0m\u001b[0;34m\u001b[0m\u001b[0m\n\u001b[1;32m     80\u001b[0m \u001b[0;34m\u001b[0m\u001b[0m\n\u001b[0;32m---> 81\u001b[0;31m         \u001b[0mtrajectory\u001b[0m \u001b[0;34m=\u001b[0m \u001b[0msimulation_rollout\u001b[0m\u001b[0;34m(\u001b[0m\u001b[0menv\u001b[0m\u001b[0;34m,\u001b[0m \u001b[0mmodel\u001b[0m\u001b[0;34m,\u001b[0m \u001b[0mlog\u001b[0m\u001b[0;34m=\u001b[0m\u001b[0mlog\u001b[0m\u001b[0;34m,\u001b[0m \u001b[0mrender\u001b[0m\u001b[0;34m=\u001b[0m\u001b[0mrender\u001b[0m\u001b[0;34m)\u001b[0m\u001b[0;34m\u001b[0m\u001b[0;34m\u001b[0m\u001b[0m\n\u001b[0m\u001b[1;32m     82\u001b[0m \u001b[0;34m\u001b[0m\u001b[0m\n\u001b[1;32m     83\u001b[0m         \u001b[0;32mif\u001b[0m \u001b[0mstates\u001b[0m \u001b[0;32mis\u001b[0m \u001b[0;32mNone\u001b[0m\u001b[0;34m:\u001b[0m\u001b[0;34m\u001b[0m\u001b[0;34m\u001b[0m\u001b[0m\n",
      "\u001b[0;32m~/testing-rl/env_utils.py\u001b[0m in \u001b[0;36msimulation_rollout\u001b[0;34m(env, model, n_steps, log, render)\u001b[0m\n\u001b[1;32m     43\u001b[0m \u001b[0;34m\u001b[0m\u001b[0m\n\u001b[1;32m     44\u001b[0m         \u001b[0;31m# Run simulation one time-step\u001b[0m\u001b[0;34m\u001b[0m\u001b[0;34m\u001b[0m\u001b[0m\n\u001b[0;32m---> 45\u001b[0;31m         \u001b[0mobservation\u001b[0m\u001b[0;34m,\u001b[0m \u001b[0mreward\u001b[0m\u001b[0;34m,\u001b[0m \u001b[0mdone\u001b[0m\u001b[0;34m,\u001b[0m \u001b[0minfo\u001b[0m \u001b[0;34m=\u001b[0m \u001b[0menv\u001b[0m\u001b[0;34m.\u001b[0m\u001b[0mstep\u001b[0m\u001b[0;34m(\u001b[0m\u001b[0maction\u001b[0m\u001b[0;34m)\u001b[0m\u001b[0;34m\u001b[0m\u001b[0;34m\u001b[0m\u001b[0m\n\u001b[0m\u001b[1;32m     46\u001b[0m \u001b[0;34m\u001b[0m\u001b[0m\n\u001b[1;32m     47\u001b[0m         \u001b[0;32mif\u001b[0m \u001b[0mrender\u001b[0m\u001b[0;34m:\u001b[0m\u001b[0;34m\u001b[0m\u001b[0;34m\u001b[0m\u001b[0m\n",
      "\u001b[0;32m/anaconda3/envs/torch/lib/python3.9/site-packages/gym/wrappers/order_enforcing.py\u001b[0m in \u001b[0;36mstep\u001b[0;34m(self, action)\u001b[0m\n\u001b[1;32m      9\u001b[0m     \u001b[0;32mdef\u001b[0m \u001b[0mstep\u001b[0m\u001b[0;34m(\u001b[0m\u001b[0mself\u001b[0m\u001b[0;34m,\u001b[0m \u001b[0maction\u001b[0m\u001b[0;34m)\u001b[0m\u001b[0;34m:\u001b[0m\u001b[0;34m\u001b[0m\u001b[0;34m\u001b[0m\u001b[0m\n\u001b[1;32m     10\u001b[0m         \u001b[0;32massert\u001b[0m \u001b[0mself\u001b[0m\u001b[0;34m.\u001b[0m\u001b[0m_has_reset\u001b[0m\u001b[0;34m,\u001b[0m \u001b[0;34m\"Cannot call env.step() before calling reset()\"\u001b[0m\u001b[0;34m\u001b[0m\u001b[0;34m\u001b[0m\u001b[0m\n\u001b[0;32m---> 11\u001b[0;31m         \u001b[0mobservation\u001b[0m\u001b[0;34m,\u001b[0m \u001b[0mreward\u001b[0m\u001b[0;34m,\u001b[0m \u001b[0mdone\u001b[0m\u001b[0;34m,\u001b[0m \u001b[0minfo\u001b[0m \u001b[0;34m=\u001b[0m \u001b[0mself\u001b[0m\u001b[0;34m.\u001b[0m\u001b[0menv\u001b[0m\u001b[0;34m.\u001b[0m\u001b[0mstep\u001b[0m\u001b[0;34m(\u001b[0m\u001b[0maction\u001b[0m\u001b[0;34m)\u001b[0m\u001b[0;34m\u001b[0m\u001b[0;34m\u001b[0m\u001b[0m\n\u001b[0m\u001b[1;32m     12\u001b[0m         \u001b[0;32mreturn\u001b[0m \u001b[0mobservation\u001b[0m\u001b[0;34m,\u001b[0m \u001b[0mreward\u001b[0m\u001b[0;34m,\u001b[0m \u001b[0mdone\u001b[0m\u001b[0;34m,\u001b[0m \u001b[0minfo\u001b[0m\u001b[0;34m\u001b[0m\u001b[0;34m\u001b[0m\u001b[0m\n\u001b[1;32m     13\u001b[0m \u001b[0;34m\u001b[0m\u001b[0m\n",
      "\u001b[0;32m~/gym-CartPole-bt-v0/gym_CartPole_BT/envs/cartpole_bt_env.py\u001b[0m in \u001b[0;36mstep\u001b[0;34m(self, u)\u001b[0m\n\u001b[1;32m    196\u001b[0m             \u001b[0;31m# Integrate using numerical solver\u001b[0m\u001b[0;34m\u001b[0m\u001b[0;34m\u001b[0m\u001b[0m\n\u001b[1;32m    197\u001b[0m             \u001b[0mtf\u001b[0m \u001b[0;34m=\u001b[0m \u001b[0mt\u001b[0m \u001b[0;34m+\u001b[0m \u001b[0mself\u001b[0m\u001b[0;34m.\u001b[0m\u001b[0mtau\u001b[0m\u001b[0;34m\u001b[0m\u001b[0;34m\u001b[0m\u001b[0m\n\u001b[0;32m--> 198\u001b[0;31m             sol = solve_ivp(f, t_span=[t, tf], y0=x,\n\u001b[0m\u001b[1;32m    199\u001b[0m                             \u001b[0mmethod\u001b[0m\u001b[0;34m=\u001b[0m\u001b[0mself\u001b[0m\u001b[0;34m.\u001b[0m\u001b[0mkinematics_integrator\u001b[0m\u001b[0;34m,\u001b[0m\u001b[0;34m\u001b[0m\u001b[0;34m\u001b[0m\u001b[0m\n\u001b[1;32m    200\u001b[0m                             t_eval=[tf])\n",
      "\u001b[0;32m/anaconda3/envs/torch/lib/python3.9/site-packages/scipy/integrate/_ivp/ivp.py\u001b[0m in \u001b[0;36msolve_ivp\u001b[0;34m(fun, t_span, y0, method, t_eval, dense_output, events, vectorized, args, **options)\u001b[0m\n\u001b[1;32m    574\u001b[0m     \u001b[0mstatus\u001b[0m \u001b[0;34m=\u001b[0m \u001b[0;32mNone\u001b[0m\u001b[0;34m\u001b[0m\u001b[0;34m\u001b[0m\u001b[0m\n\u001b[1;32m    575\u001b[0m     \u001b[0;32mwhile\u001b[0m \u001b[0mstatus\u001b[0m \u001b[0;32mis\u001b[0m \u001b[0;32mNone\u001b[0m\u001b[0;34m:\u001b[0m\u001b[0;34m\u001b[0m\u001b[0;34m\u001b[0m\u001b[0m\n\u001b[0;32m--> 576\u001b[0;31m         \u001b[0mmessage\u001b[0m \u001b[0;34m=\u001b[0m \u001b[0msolver\u001b[0m\u001b[0;34m.\u001b[0m\u001b[0mstep\u001b[0m\u001b[0;34m(\u001b[0m\u001b[0;34m)\u001b[0m\u001b[0;34m\u001b[0m\u001b[0;34m\u001b[0m\u001b[0m\n\u001b[0m\u001b[1;32m    577\u001b[0m \u001b[0;34m\u001b[0m\u001b[0m\n\u001b[1;32m    578\u001b[0m         \u001b[0;32mif\u001b[0m \u001b[0msolver\u001b[0m\u001b[0;34m.\u001b[0m\u001b[0mstatus\u001b[0m \u001b[0;34m==\u001b[0m \u001b[0;34m'finished'\u001b[0m\u001b[0;34m:\u001b[0m\u001b[0;34m\u001b[0m\u001b[0;34m\u001b[0m\u001b[0m\n",
      "\u001b[0;32m/anaconda3/envs/torch/lib/python3.9/site-packages/scipy/integrate/_ivp/base.py\u001b[0m in \u001b[0;36mstep\u001b[0;34m(self)\u001b[0m\n\u001b[1;32m    179\u001b[0m         \u001b[0;32melse\u001b[0m\u001b[0;34m:\u001b[0m\u001b[0;34m\u001b[0m\u001b[0;34m\u001b[0m\u001b[0m\n\u001b[1;32m    180\u001b[0m             \u001b[0mt\u001b[0m \u001b[0;34m=\u001b[0m \u001b[0mself\u001b[0m\u001b[0;34m.\u001b[0m\u001b[0mt\u001b[0m\u001b[0;34m\u001b[0m\u001b[0;34m\u001b[0m\u001b[0m\n\u001b[0;32m--> 181\u001b[0;31m             \u001b[0msuccess\u001b[0m\u001b[0;34m,\u001b[0m \u001b[0mmessage\u001b[0m \u001b[0;34m=\u001b[0m \u001b[0mself\u001b[0m\u001b[0;34m.\u001b[0m\u001b[0m_step_impl\u001b[0m\u001b[0;34m(\u001b[0m\u001b[0;34m)\u001b[0m\u001b[0;34m\u001b[0m\u001b[0;34m\u001b[0m\u001b[0m\n\u001b[0m\u001b[1;32m    182\u001b[0m \u001b[0;34m\u001b[0m\u001b[0m\n\u001b[1;32m    183\u001b[0m             \u001b[0;32mif\u001b[0m \u001b[0;32mnot\u001b[0m \u001b[0msuccess\u001b[0m\u001b[0;34m:\u001b[0m\u001b[0;34m\u001b[0m\u001b[0;34m\u001b[0m\u001b[0m\n",
      "\u001b[0;32m/anaconda3/envs/torch/lib/python3.9/site-packages/scipy/integrate/_ivp/rk.py\u001b[0m in \u001b[0;36m_step_impl\u001b[0;34m(self)\u001b[0m\n\u001b[1;32m    134\u001b[0m \u001b[0;34m\u001b[0m\u001b[0m\n\u001b[1;32m    135\u001b[0m             \u001b[0mh\u001b[0m \u001b[0;34m=\u001b[0m \u001b[0mh_abs\u001b[0m \u001b[0;34m*\u001b[0m \u001b[0mself\u001b[0m\u001b[0;34m.\u001b[0m\u001b[0mdirection\u001b[0m\u001b[0;34m\u001b[0m\u001b[0;34m\u001b[0m\u001b[0m\n\u001b[0;32m--> 136\u001b[0;31m             \u001b[0mt_new\u001b[0m \u001b[0;34m=\u001b[0m \u001b[0mt\u001b[0m \u001b[0;34m+\u001b[0m \u001b[0mh\u001b[0m\u001b[0;34m\u001b[0m\u001b[0;34m\u001b[0m\u001b[0m\n\u001b[0m\u001b[1;32m    137\u001b[0m \u001b[0;34m\u001b[0m\u001b[0m\n\u001b[1;32m    138\u001b[0m             \u001b[0;32mif\u001b[0m \u001b[0mself\u001b[0m\u001b[0;34m.\u001b[0m\u001b[0mdirection\u001b[0m \u001b[0;34m*\u001b[0m \u001b[0;34m(\u001b[0m\u001b[0mt_new\u001b[0m \u001b[0;34m-\u001b[0m \u001b[0mself\u001b[0m\u001b[0;34m.\u001b[0m\u001b[0mt_bound\u001b[0m\u001b[0;34m)\u001b[0m \u001b[0;34m>\u001b[0m \u001b[0;36m0\u001b[0m\u001b[0;34m:\u001b[0m\u001b[0;34m\u001b[0m\u001b[0;34m\u001b[0m\u001b[0m\n",
      "\u001b[0;31mKeyboardInterrupt\u001b[0m: "
     ]
    },
    {
     "name": "stdout",
     "output_type": "stream",
     "text": [
      "> \u001b[0;32m/anaconda3/envs/torch/lib/python3.9/site-packages/scipy/integrate/_ivp/rk.py\u001b[0m(136)\u001b[0;36m_step_impl\u001b[0;34m()\u001b[0m\n",
      "\u001b[0;32m    134 \u001b[0;31m\u001b[0;34m\u001b[0m\u001b[0m\n",
      "\u001b[0m\u001b[0;32m    135 \u001b[0;31m            \u001b[0mh\u001b[0m \u001b[0;34m=\u001b[0m \u001b[0mh_abs\u001b[0m \u001b[0;34m*\u001b[0m \u001b[0mself\u001b[0m\u001b[0;34m.\u001b[0m\u001b[0mdirection\u001b[0m\u001b[0;34m\u001b[0m\u001b[0;34m\u001b[0m\u001b[0m\n",
      "\u001b[0m\u001b[0;32m--> 136 \u001b[0;31m            \u001b[0mt_new\u001b[0m \u001b[0;34m=\u001b[0m \u001b[0mt\u001b[0m \u001b[0;34m+\u001b[0m \u001b[0mh\u001b[0m\u001b[0;34m\u001b[0m\u001b[0;34m\u001b[0m\u001b[0m\n",
      "\u001b[0m\u001b[0;32m    137 \u001b[0;31m\u001b[0;34m\u001b[0m\u001b[0m\n",
      "\u001b[0m\u001b[0;32m    138 \u001b[0;31m            \u001b[0;32mif\u001b[0m \u001b[0mself\u001b[0m\u001b[0;34m.\u001b[0m\u001b[0mdirection\u001b[0m \u001b[0;34m*\u001b[0m \u001b[0;34m(\u001b[0m\u001b[0mt_new\u001b[0m \u001b[0;34m-\u001b[0m \u001b[0mself\u001b[0m\u001b[0;34m.\u001b[0m\u001b[0mt_bound\u001b[0m\u001b[0;34m)\u001b[0m \u001b[0;34m>\u001b[0m \u001b[0;36m0\u001b[0m\u001b[0;34m:\u001b[0m\u001b[0;34m\u001b[0m\u001b[0;34m\u001b[0m\u001b[0m\n",
      "\u001b[0m\n",
      "--KeyboardInterrupt--\n",
      "ipdb> q\n"
     ]
    }
   ],
   "source": [
    "n_repeats = 100\n",
    "observations, actions, rewards = simulation_rollouts(env, model, n_steps=None, n_repeats=n_repeats, \n",
    "                                               log=True, render=False)\n",
    "assert(observations.shape == (n_repeats, 100, 2))\n",
    "assert(actions.shape == (n_repeats, 100, 1))\n",
    "assert(rewards.shape == (n_repeats, 100))\n",
    "\n",
    "cum_rewards = np.sum(rewards, axis=1)\n",
    "print(f\"Avg. cum reward: {np.mean(cum_rewards):0.3f}\")\n",
    "pd.Series(cum_rewards).hist(figsize=(4.5, 3))\n",
    "plt.show()"
   ]
  },
  {
   "cell_type": "code",
   "execution_count": null,
   "id": "57fabb16",
   "metadata": {},
   "outputs": [],
   "source": [
    "cum_rewards = np.sum(rewards, axis=1)\n",
    "print(f\"Avg. cum reward: {np.mean(cum_rewards):0.3f}\")\n",
    "pd.Series(cum_rewards).hist(figsize=(4.5, 3))\n",
    "plt.show()"
   ]
  },
  {
   "cell_type": "code",
   "execution_count": null,
   "id": "a3607041",
   "metadata": {},
   "outputs": [],
   "source": []
  },
  {
   "cell_type": "code",
   "execution_count": null,
   "id": "918c28c3",
   "metadata": {},
   "outputs": [],
   "source": []
  }
 ],
 "metadata": {
  "kernelspec": {
   "display_name": "Python [conda env:torch]",
   "language": "python",
   "name": "conda-env-torch-py"
  },
  "language_info": {
   "codemirror_mode": {
    "name": "ipython",
    "version": 3
   },
   "file_extension": ".py",
   "mimetype": "text/x-python",
   "name": "python",
   "nbconvert_exporter": "python",
   "pygments_lexer": "ipython3",
   "version": "3.9.7"
  }
 },
 "nbformat": 4,
 "nbformat_minor": 5
}
